{
 "cells": [
  {
   "cell_type": "code",
   "execution_count": 1,
   "metadata": {},
   "outputs": [],
   "source": [
    "import matplotlib.pyplot as plt\n",
    "import numpy as np\n",
    "from sklearn.cluster import KMeans\n",
    "from sklearn.metrics import jaccard_score"
   ]
  },
  {
   "cell_type": "code",
   "execution_count": 99,
   "metadata": {},
   "outputs": [
    {
     "data": {
      "text/plain": [
       "(102400, 3)"
      ]
     },
     "execution_count": 99,
     "metadata": {},
     "output_type": "execute_result"
    }
   ],
   "source": [
    "### First need to load in an image and convert it to three column matrix.\n",
    "# Each row is a pixel, each column is one of either R, G, and B.\n",
    "\n",
    "image_filepath = 'homework2_data_code/bruins_banner.bmp'\n",
    "image = plt.imread(image_filepath)\n",
    "\n",
    "rows = image.shape[0]\n",
    "cols = image.shape[1]\n",
    "\n",
    "# input matrix, pixels:\n",
    "pixels = np.zeros((rows*cols, 3))\n",
    "for i in range(rows):\n",
    "    for j in range(cols):\n",
    "        pixels[j*rows+i,:] = image[i,j,:]\n",
    "\n",
    "pixels.shape"
   ]
  },
  {
   "cell_type": "code",
   "execution_count": 100,
   "metadata": {},
   "outputs": [
    {
     "data": {
      "text/plain": [
       "(array([1, 1, 1, ..., 1, 1, 1], dtype=int32),\n",
       " array([[123.29370091, 101.22458851,  64.25117185],\n",
       "        [250.51669391, 247.16776523, 241.97769356]]))"
      ]
     },
     "execution_count": 100,
     "metadata": {},
     "output_type": "execute_result"
    }
   ],
   "source": [
    "### Model for how the function should work:\n",
    "def ex_kmeans(image_data, K):\n",
    "    kmeans = KMeans(n_clusters=K).fit(image_data)\n",
    "    label = kmeans.labels_\n",
    "    centroid = kmeans.cluster_centers_\n",
    "    return label, centroid\n",
    "\n",
    "ex_kmeans(pixels, K = 2)"
   ]
  },
  {
   "cell_type": "code",
   "execution_count": 87,
   "metadata": {},
   "outputs": [],
   "source": [
    "### First create a euclidean distance function\n",
    "def euclidean(vec1, vec2):\n",
    "    return np.linalg.norm(vec1-vec2)\n",
    "\n",
    "### K-means function\n",
    "def my_kmeans(image_data, K, max_iter = 300):\n",
    "    \n",
    "    print('Max Iterations: {}'.format(max_iter))\n",
    "    \n",
    "    ### initialize initial assignment\n",
    "    labels_prev = np.random.randint(0, K, image_data.shape[0])\n",
    "    centroids = np.array([np.mean(image_data[np.equal(labels_prev, i)], axis=0) for i in range(K)])\n",
    "    \n",
    "    \n",
    "    ### initialize large difference\n",
    "    difference = 0\n",
    "    \n",
    "    ### initialize iteration\n",
    "    iteration = 1\n",
    "    \n",
    "    ### Repeat algorithm until convergence (when jaccard similarity = 1)\n",
    "    while difference < 1 or iteration == max_iter:\n",
    "        \n",
    "        print('Iteration {}'.format(iteration))\n",
    "        \n",
    "        # assign each point to the cluster with the nearest centroid\n",
    "        distances = np.zeros((image_data.shape[0], K))\n",
    "        for i in range(image_data.shape[0]):\n",
    "            for j in range(K):\n",
    "                distances[i, j] = euclidean(centroids[j], image_data[i, :])\n",
    "                \n",
    "        # assign each pixel to closer centroid\n",
    "        labels_new = np.array([np.argmin(centroid) for centroid in distances])\n",
    "        \n",
    "        # Calculate new cluster centers\n",
    "        centroids = np.array([np.mean(image_data[np.equal(labels_new, i)], axis=0) for i in range(K)])\n",
    "        \n",
    "        # calculate difference between old cluster centers and new cluster centers\n",
    "        if K == 2:\n",
    "            difference = jaccard_score(labels_prev, labels_new)\n",
    "        else:\n",
    "            difference = jaccard_score(labels_prev, labels_new, average='macro')\n",
    "        \n",
    "        print('Current Jaccard Similarity: {}'.format(difference))\n",
    "        \n",
    "        # pass on labels (if we terminate, these will be equal in the end)\n",
    "        labels_prev = labels_new\n",
    "        \n",
    "        # increment iteration\n",
    "        iteration += 1\n",
    "    \n",
    "    ### Check empty clusters and reduce K if they are present\n",
    "    clusters = np.array([image_data[np.where(labels_new == k)] for k in range(K)])\n",
    "    empty_clusters = np.array([np.linalg.norm(cluster) == 0 for cluster in clusters])\n",
    "    if np.sum(empty_clusters > 0):\n",
    "        K-=1\n",
    "        print('Found empty clusters. Reducing K to {}'.format(K))\n",
    "        labels_new, centroids = my_kmeans(image_data, K)\n",
    "    \n",
    "    ### return final labels and centroids\n",
    "    return labels_new, centroids"
   ]
  },
  {
   "cell_type": "code",
   "execution_count": 101,
   "metadata": {
    "scrolled": true
   },
   "outputs": [
    {
     "name": "stdout",
     "output_type": "stream",
     "text": [
      "Max Iterations: 300\n",
      "Iteration 1\n",
      "Current Jaccard Similarity: 0.32347676191739044\n",
      "Iteration 2\n",
      "Current Jaccard Similarity: 0.986219662690251\n",
      "Iteration 3\n",
      "Current Jaccard Similarity: 0.9934098018769552\n",
      "Iteration 4\n",
      "Current Jaccard Similarity: 0.9943947600453458\n",
      "Iteration 5\n",
      "Current Jaccard Similarity: 0.997107691008508\n",
      "Iteration 6\n",
      "Current Jaccard Similarity: 0.9978615286893924\n",
      "Iteration 7\n",
      "Current Jaccard Similarity: 0.99876933522884\n",
      "Iteration 8\n",
      "Current Jaccard Similarity: 0.9987678188268786\n",
      "Iteration 9\n",
      "Current Jaccard Similarity: 0.9991279007933975\n",
      "Iteration 10\n",
      "Current Jaccard Similarity: 0.9995742144256152\n",
      "Iteration 11\n",
      "Current Jaccard Similarity: 0.9998509115692622\n",
      "Iteration 12\n",
      "Current Jaccard Similarity: 0.9999573969538822\n",
      "Iteration 13\n",
      "Current Jaccard Similarity: 1.0\n"
     ]
    }
   ],
   "source": [
    "test = my_kmeans(pixels, K = 2)"
   ]
  },
  {
   "cell_type": "code",
   "execution_count": 102,
   "metadata": {},
   "outputs": [
    {
     "data": {
      "text/plain": [
       "(array([0, 0, 0, ..., 0, 0, 0]),\n",
       " array([[250.55843266, 247.41015562, 242.52557838],\n",
       "        [123.84604733, 101.6284217 ,  64.44441131]]))"
      ]
     },
     "execution_count": 102,
     "metadata": {},
     "output_type": "execute_result"
    }
   ],
   "source": [
    "test"
   ]
  },
  {
   "cell_type": "code",
   "execution_count": 34,
   "metadata": {},
   "outputs": [
    {
     "name": "stdout",
     "output_type": "stream",
     "text": [
      "[1 0 0 ... 0 1 1]\n",
      "[[126.69878714 124.16724889 114.33400322]\n",
      " [126.49670064 124.0719925  114.16199289]]\n"
     ]
    }
   ],
   "source": [
    "K = 2\n",
    "\n",
    "labels = np.random.randint(0, 2, pixels.shape[0])\n",
    "means = np.array([np.mean(pixels[np.equal(labels, i)], axis=0) for i in range(2)])\n",
    "\n",
    "# datapoints = pixels[np.where(labels == 0)]\n",
    "\n",
    "# distances = np.zeros(datapoints.shape[0])\n",
    "\n",
    "# for i, datapoint in enumerate(datapoints):\n",
    "#     distances[i] = euclidean(datapoints[i], means[0])\n",
    "        \n",
    "# datapoints[np.argmin(distances)]\n",
    "print(labels)\n",
    "print(means)"
   ]
  },
  {
   "cell_type": "code",
   "execution_count": 35,
   "metadata": {},
   "outputs": [
    {
     "data": {
      "text/plain": [
       "array([[127., 124., 115.],\n",
       "       [127., 124., 115.]])"
      ]
     },
     "execution_count": 35,
     "metadata": {},
     "output_type": "execute_result"
    }
   ],
   "source": [
    "\n",
    "centroids = np.zeros((K, 3))\n",
    "for k in range(K):\n",
    "    distances = np.array([euclidean(datapoint, means[k]) for datapoint in pixels])\n",
    "    centroids[k] = pixels[np.argmin(distances)]\n",
    "\n",
    "centroids"
   ]
  },
  {
   "cell_type": "code",
   "execution_count": 94,
   "metadata": {},
   "outputs": [],
   "source": [
    "### this looks good; now tackle k-medoids\n",
    "# should essentially be the same code except cluster\n",
    "# centers are determined by median point rather than\n",
    "# the average.\n",
    "\n",
    "### Solving true median is computationally expensive\n",
    "### -Instead i'll find the geometric mean, and select the closest datapoint\n",
    "\n",
    "def my_kmedoids(image_data, K, max_iter = 300):\n",
    "    print('Max Iterations: {}'.format(max_iter))\n",
    "    \n",
    "    ### initialize initial assignment\n",
    "    labels_prev = np.random.randint(0, K, image_data.shape[0])\n",
    "    geom_means = np.array([np.mean(image_data[np.equal(labels_prev, i)], axis=0) for i in range(K)])\n",
    "    \n",
    "    # find datapoints nearest to each centroid\n",
    "    centroids = np.zeros((K, 3))\n",
    "    for k in range(K):\n",
    "        datapoints = image_data[np.where(labels_prev == k)]\n",
    "        distances = np.array([euclidean(datapoint, geom_means[k]) for datapoint in image_data])\n",
    "        centroids[k] = image_data[np.argmin(distances)]\n",
    "    \n",
    "    ### initialize large difference\n",
    "    difference = 0\n",
    "    \n",
    "    ### initialize iteration\n",
    "    iteration = 1\n",
    "    \n",
    "    ### Repeat algorithm until convergence (when jaccard similarity = 1)\n",
    "    while difference < 1 or iteration == max_iter:\n",
    "        \n",
    "        print('Iteration {}'.format(iteration))\n",
    "        \n",
    "        # assign each point to the cluster with the nearest centroid\n",
    "        distances = np.zeros((image_data.shape[0], K))\n",
    "        for i in range(image_data.shape[0]):\n",
    "            for j in range(K):\n",
    "                distances[i, j] = euclidean(centroids[j], image_data[i, :])\n",
    "                \n",
    "        # assign each pixel to closer centroid\n",
    "        labels_new = np.array([np.argmin(centroid) for centroid in distances])\n",
    "        \n",
    "        # Calculate new cluster centers\n",
    "        # I will select the datapoint that is nearest to the geometric mean\n",
    "        geom_means = np.array([np.mean(image_data[np.equal(labels_new, i)], axis=0) for i in range(K)])\n",
    "        \n",
    "        centroids = np.zeros((K, 3))\n",
    "        for k in range(K):\n",
    "            datapoints = image_data[np.where(labels_new == k)]\n",
    "            distances = np.array([euclidean(datapoint, geom_means[k]) for datapoint in image_data])\n",
    "            centroids[k] = image_data[np.argmin(distances)]\n",
    "        \n",
    "        # calculate difference between old cluster centers and new cluster centers\n",
    "        if K == 2:\n",
    "            difference = jaccard_score(labels_prev, labels_new)\n",
    "        else:\n",
    "            difference = jaccard_score(labels_prev, labels_new, average='macro')\n",
    "        \n",
    "        print('Current Jaccard Similarity: {}'.format(difference))\n",
    "        \n",
    "        # pass on labels (if we terminate, these will be equal in the end)\n",
    "        labels_prev = labels_new\n",
    "        \n",
    "        # increment iteration\n",
    "        iteration += 1\n",
    "        \n",
    "    ### Check empty clusters and reduce K if they are present\n",
    "    clusters = np.array([image_data[np.where(labels_new == k)] for k in range(K)])\n",
    "    empty_clusters = np.array([np.linalg.norm(cluster) == 0 for cluster in clusters])\n",
    "    if np.sum(empty_clusters > 0):\n",
    "        K-=1\n",
    "        print('Found empty clusters. Reducing K to {}'.format(K))\n",
    "        labels_new, centroids = my_kmedoids(image_data, K)\n",
    "    \n",
    "    ### return final labels and centroids\n",
    "    return labels_new, centroids"
   ]
  },
  {
   "cell_type": "code",
   "execution_count": 103,
   "metadata": {},
   "outputs": [
    {
     "name": "stdout",
     "output_type": "stream",
     "text": [
      "Max Iterations: 300\n",
      "Iteration 1\n"
     ]
    },
    {
     "name": "stderr",
     "output_type": "stream",
     "text": [
      "/Users/nicholaschao/Dev/virtualenvs/py3/lib/python3.7/site-packages/numpy/core/fromnumeric.py:3257: RuntimeWarning: Mean of empty slice.\n",
      "  out=out, **kwargs)\n",
      "/Users/nicholaschao/Dev/virtualenvs/py3/lib/python3.7/site-packages/numpy/core/_methods.py:154: RuntimeWarning: invalid value encountered in true_divide\n",
      "  ret, rcount, out=ret, casting='unsafe', subok=False)\n"
     ]
    },
    {
     "name": "stdout",
     "output_type": "stream",
     "text": [
      "Current Jaccard Similarity: 0.06703929503241896\n",
      "Iteration 2\n",
      "Current Jaccard Similarity: 0.2851952229502949\n",
      "Iteration 3\n",
      "Current Jaccard Similarity: 0.5068841476236638\n",
      "Iteration 4\n",
      "Current Jaccard Similarity: 0.5678993572012789\n",
      "Iteration 5\n",
      "Current Jaccard Similarity: 0.7485968132182885\n",
      "Iteration 6\n",
      "Current Jaccard Similarity: 0.8555628146814469\n",
      "Iteration 7\n",
      "Current Jaccard Similarity: 0.8895634151293885\n",
      "Iteration 8\n",
      "Current Jaccard Similarity: 0.8962241385926714\n",
      "Iteration 9\n",
      "Current Jaccard Similarity: 0.9163645539888903\n",
      "Iteration 10\n",
      "Current Jaccard Similarity: 0.918978697455481\n",
      "Iteration 11\n",
      "Current Jaccard Similarity: 0.8996334951103624\n",
      "Iteration 12\n",
      "Current Jaccard Similarity: 0.8965260535434018\n",
      "Iteration 13\n",
      "Current Jaccard Similarity: 0.8999576654465418\n",
      "Iteration 14\n",
      "Current Jaccard Similarity: 0.905783449982423\n",
      "Iteration 15\n",
      "Current Jaccard Similarity: 0.9162367090254943\n",
      "Iteration 16\n",
      "Current Jaccard Similarity: 0.9173803725101097\n",
      "Iteration 17\n",
      "Current Jaccard Similarity: 0.9117731367161086\n",
      "Iteration 18\n",
      "Current Jaccard Similarity: 0.9172637421219202\n",
      "Iteration 19\n",
      "Current Jaccard Similarity: 0.9312573433866609\n",
      "Iteration 20\n",
      "Current Jaccard Similarity: 0.9425786655600493\n",
      "Iteration 21\n",
      "Current Jaccard Similarity: 0.9565189891049041\n",
      "Iteration 22\n",
      "Current Jaccard Similarity: 0.9581619481207205\n",
      "Iteration 23\n",
      "Current Jaccard Similarity: 0.9706666000620163\n",
      "Iteration 24\n",
      "Current Jaccard Similarity: 0.9826028115632883\n",
      "Iteration 25\n",
      "Current Jaccard Similarity: 0.9911201918887025\n",
      "Iteration 26\n",
      "Current Jaccard Similarity: 0.9925979407797012\n",
      "Iteration 27\n",
      "Current Jaccard Similarity: 0.9960154528289683\n",
      "Iteration 28\n",
      "Current Jaccard Similarity: 0.9947892369394161\n",
      "Iteration 29\n",
      "Current Jaccard Similarity: 1.0\n"
     ]
    },
    {
     "data": {
      "text/plain": [
       "(array([1, 1, 1, ..., 1, 1, 1]), array([[ 32.,  30.,  31.],\n",
       "        [253., 253., 253.],\n",
       "        [ 82.,  78.,  79.],\n",
       "        [213., 198., 177.],\n",
       "        [229., 174.,  74.]]))"
      ]
     },
     "execution_count": 103,
     "metadata": {},
     "output_type": "execute_result"
    }
   ],
   "source": [
    "my_kmedoids(pixels, K = 5)"
   ]
  },
  {
   "cell_type": "code",
   "execution_count": null,
   "metadata": {},
   "outputs": [],
   "source": []
  }
 ],
 "metadata": {
  "kernelspec": {
   "display_name": "Python 3",
   "language": "python",
   "name": "python3"
  },
  "language_info": {
   "codemirror_mode": {
    "name": "ipython",
    "version": 3
   },
   "file_extension": ".py",
   "mimetype": "text/x-python",
   "name": "python",
   "nbconvert_exporter": "python",
   "pygments_lexer": "ipython3",
   "version": "3.7.4"
  }
 },
 "nbformat": 4,
 "nbformat_minor": 2
}
