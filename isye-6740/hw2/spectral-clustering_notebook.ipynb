{
 "cells": [
  {
   "cell_type": "code",
   "execution_count": 11,
   "metadata": {},
   "outputs": [],
   "source": [
    "import numpy as np\n",
    "import pandas as pd\n",
    "from sklearn.metrics import jaccard_score\n",
    "\n",
    "\n",
    "# grab my k-means and euclidean distance functions from Q1\n",
    "def euclidean(vec1, vec2):\n",
    "    return np.linalg.norm(vec1-vec2)\n",
    "\n",
    "def my_kmeans(image_data, K, max_iter = 300):\n",
    "    \n",
    "    print('Max Iterations: {}'.format(max_iter))\n",
    "    \n",
    "    ### initialize initial assignment\n",
    "    labels_prev = np.random.randint(0, K, image_data.shape[0])\n",
    "    centroids = np.array([np.mean(image_data[np.equal(labels_prev, i)], axis=0) for i in range(K)])\n",
    "    \n",
    "    \n",
    "    ### initialize large difference\n",
    "    difference = 0\n",
    "    \n",
    "    ### initialize iteration\n",
    "    iteration = 1\n",
    "    \n",
    "    ### Repeat algorithm until convergence (when jaccard similarity = 1)\n",
    "    while difference < 1 or iteration == max_iter:\n",
    "        \n",
    "        print('Iteration {}'.format(iteration))\n",
    "        \n",
    "        # assign each point to the cluster with the nearest centroid\n",
    "        distances = np.zeros((image_data.shape[0], K))\n",
    "        for i in range(image_data.shape[0]):\n",
    "            for j in range(K):\n",
    "                distances[i, j] = euclidean(centroids[j], image_data[i, :])\n",
    "                \n",
    "        # assign each pixel to closer centroid\n",
    "        labels_new = np.array([np.argmin(centroid) for centroid in distances])\n",
    "        \n",
    "        # Calculate new cluster centers\n",
    "        centroids = np.array([np.mean(image_data[np.equal(labels_new, i)], axis=0) for i in range(K)])\n",
    "        \n",
    "        # calculate difference between old cluster centers and new cluster centers\n",
    "        if K == 2:\n",
    "            difference = jaccard_score(labels_prev, labels_new)\n",
    "        else:\n",
    "            difference = jaccard_score(labels_prev, labels_new, average='macro')\n",
    "        \n",
    "        print('Current Jaccard Similarity: {}'.format(difference))\n",
    "        \n",
    "        # pass on labels (if we terminate, these will be equal in the end)\n",
    "        labels_prev = labels_new\n",
    "        \n",
    "        # increment iteration\n",
    "        iteration += 1\n",
    "    \n",
    "    ### Check empty clusters and reduce K if they are present\n",
    "    clusters = np.array([image_data[np.where(labels_new == k)] for k in range(K)])\n",
    "    empty_clusters = np.array([np.linalg.norm(cluster) == 0 for cluster in clusters])\n",
    "    if np.sum(empty_clusters > 0):\n",
    "        K-=1\n",
    "        print('Found empty clusters. Reducing K to {}'.format(K))\n",
    "        labels_new, centroids = my_kmeans(image_data, K)\n",
    "    \n",
    "    ### return final labels and centroids\n",
    "    return labels_new, centroids\n",
    "\n"
   ]
  },
  {
   "cell_type": "code",
   "execution_count": 59,
   "metadata": {},
   "outputs": [
    {
     "name": "stdout",
     "output_type": "stream",
     "text": [
      "      node                            name  label                 source\n",
      "0        1            100monkeystyping.com      0              Blogarama\n",
      "1        2      12thharmonic.com/wordpress      0            BlogCatalog\n",
      "2        3           40ozblog.blogspot.com      0  Blogarama,BlogCatalog\n",
      "3        4                 4lina.tblog.com      0              Blogarama\n",
      "4        5           750volts.blogspot.com      0              Blogarama\n",
      "...    ...                             ...    ...                    ...\n",
      "1485  1486  youngconservative.blogspot.com      1              Blogarama\n",
      "1486  1487                zebrax.blogs.com      1            BlogCatalog\n",
      "1487  1488             zeke01.blogspot.com      1  Blogarama,BlogCatalog\n",
      "1488  1489              zeke01.typepad.com      1              Blogarama\n",
      "1489  1490          zeph1z.tripod.com/blog      1              Blogarama\n",
      "\n",
      "[1490 rows x 4 columns]\n",
      "       node_1  node_2\n",
      "0         267    1394\n",
      "1         267     483\n",
      "2         267    1051\n",
      "3         904    1479\n",
      "4         904     919\n",
      "...       ...     ...\n",
      "19085    1133    1390\n",
      "19086    1133    1429\n",
      "19087    1133    1423\n",
      "19088    1133    1408\n",
      "19089    1133    1152\n",
      "\n",
      "[19090 rows x 2 columns]\n"
     ]
    }
   ],
   "source": [
    "# Read in the dataset\n",
    "raw_nodes = pd.read_csv('homework2_data_code/nodes_fixed.txt', delimiter='\\t', header=None)\n",
    "raw_nodes.columns = ['node', 'name', 'label', 'source']\n",
    "\n",
    "raw_edges = pd.read_csv('homework2_data_code/edges.txt', delimiter='\\t', header=None)\n",
    "raw_edges.columns = ['node_1', 'node_2']\n",
    "\n",
    "print(raw_nodes)\n",
    "print(raw_edges)"
   ]
  },
  {
   "cell_type": "code",
   "execution_count": 128,
   "metadata": {},
   "outputs": [],
   "source": [
    "### Create adjacency and degree matrix, then Laplacian\n",
    "\n",
    "# adjancency matrix\n",
    "A = np.zeros((raw_nodes.shape[0], raw_nodes.shape[0]))\n",
    "for i in range(raw_edges.shape[0]):\n",
    "    A[raw_edges.node_1.values[i]-1, raw_edges.node_2.values[i]-1] = 1\n",
    "\n",
    "# degree matrix\n",
    "# D = np.diag(np.array([np.sum(a) for a in A]))\n",
    "D = np.zeros((raw_nodes.shape[0], raw_nodes.shape[0]))\n",
    "for i, j in zip(raw_edges.node_1.values, raw_edges.node_2.values):\n",
    "    D[i-1, i-1] += 1\n",
    "    D[j-1, j-1] += 1\n",
    "\n",
    "# Laplacian\n",
    "L = D - A"
   ]
  },
  {
   "cell_type": "code",
   "execution_count": 184,
   "metadata": {},
   "outputs": [],
   "source": [
    "### Calculate eigenvalues and eigenvectors of the laplacian\n",
    "eigenvals, eigenvecs = np.linalg.eig(L)\n",
    "\n",
    "# grab m smallest eigenvectors corresponding to non-zero eigenvalues\n",
    "nonzero_eigenvecs = np.squeeze(eigenvecs[:, np.where(eigenvals > 0)])\n",
    "nonzero_eigenvals = eigenvals[np.where(eigenvals > 0)]\n",
    "\n",
    "m = 25\n",
    "\n",
    "m_smallest_eigenvecs = nonzero_eigenvecs[:, nonzero_eigenvals.argsort()[:m]]"
   ]
  },
  {
   "cell_type": "code",
   "execution_count": 185,
   "metadata": {},
   "outputs": [
    {
     "name": "stdout",
     "output_type": "stream",
     "text": [
      "Max Iterations: 300\n",
      "Iteration 1\n",
      "Current Jaccard Similarity: 0.02913907284768212\n",
      "Iteration 2\n",
      "Current Jaccard Similarity: 0.42857142857142855\n",
      "Iteration 3\n",
      "Current Jaccard Similarity: 0.4444444444444444\n",
      "Iteration 4\n",
      "Current Jaccard Similarity: 0.75\n",
      "Iteration 5\n",
      "Current Jaccard Similarity: 0.6666666666666666\n",
      "Iteration 6\n",
      "Current Jaccard Similarity: 0.5\n",
      "Iteration 7\n",
      "Current Jaccard Similarity: 0.5\n",
      "Iteration 8\n",
      "Current Jaccard Similarity: 1.0\n"
     ]
    }
   ],
   "source": [
    "# run k-means with k = 2 on non-zero eigenvalues\n",
    "labels, centroids = my_kmeans(m_smallest_eigenvecs, K = 2)"
   ]
  },
  {
   "cell_type": "code",
   "execution_count": 186,
   "metadata": {},
   "outputs": [
    {
     "name": "stdout",
     "output_type": "stream",
     "text": [
      "[1489    1]\n",
      "     node                          name  label                       source  \\\n",
      "0       1          100monkeystyping.com      0                    Blogarama   \n",
      "1       2    12thharmonic.com/wordpress      0                  BlogCatalog   \n",
      "2       3         40ozblog.blogspot.com      0        Blogarama,BlogCatalog   \n",
      "3       4               4lina.tblog.com      0                    Blogarama   \n",
      "4       5         750volts.blogspot.com      0                    Blogarama   \n",
      "..    ...                           ...    ...                          ...   \n",
      "753   754            xnerg.blogspot.com      0  LeftyDirectory,eTalkingHead   \n",
      "754   755      yarsrevenge.blogspot.com      0     Blogarama,LeftyDirectory   \n",
      "755   756  yglesias.typepad.com/matthew      0                 eTalkingHead   \n",
      "756   757                      yoder.ru      0                 eTalkingHead   \n",
      "757   758                 younglibs.com      0                    Blogarama   \n",
      "\n",
      "     cluster  correct  \n",
      "0          0        1  \n",
      "1          0        1  \n",
      "2          0        1  \n",
      "3          0        1  \n",
      "4          0        1  \n",
      "..       ...      ...  \n",
      "753        0        1  \n",
      "754        0        1  \n",
      "755        0        1  \n",
      "756        0        1  \n",
      "757        0        1  \n",
      "\n",
      "[758 rows x 6 columns]\n",
      "      node                            name  label                 source  \\\n",
      "758    759           84rules.blog-city.com      1           eTalkingHead   \n",
      "759    760            a100wwe.blogspot.com      1              Blogarama   \n",
      "760    761    absurd-canadian.blogspot.com      1           eTalkingHead   \n",
      "761    762                       ace.mu.nu      1        LabeledManually   \n",
      "762    763     aceoftrumpblog.blogspot.com      1  Blogarama,BlogCatalog   \n",
      "...    ...                             ...    ...                    ...   \n",
      "1485  1486  youngconservative.blogspot.com      1              Blogarama   \n",
      "1486  1487                zebrax.blogs.com      1            BlogCatalog   \n",
      "1487  1488             zeke01.blogspot.com      1  Blogarama,BlogCatalog   \n",
      "1488  1489              zeke01.typepad.com      1              Blogarama   \n",
      "1489  1490          zeph1z.tripod.com/blog      1              Blogarama   \n",
      "\n",
      "      cluster  correct  \n",
      "758         0        0  \n",
      "759         0        0  \n",
      "760         0        0  \n",
      "761         0        0  \n",
      "762         0        0  \n",
      "...       ...      ...  \n",
      "1485        0        0  \n",
      "1486        0        0  \n",
      "1487        1        1  \n",
      "1488        0        0  \n",
      "1489        0        0  \n",
      "\n",
      "[732 rows x 6 columns]\n"
     ]
    }
   ],
   "source": [
    "### calculate false positive rate\n",
    "print(np.bincount(labels))\n",
    "# first determine which cluster is left-leaning and which is right-leaning\n",
    "nodes_assigned = raw_nodes\n",
    "nodes_assigned['cluster'] = labels\n",
    "\n",
    "print(nodes_assigned[nodes_assigned['label'] == 0])\n",
    "print(nodes_assigned[nodes_assigned['label'] == 1])"
   ]
  },
  {
   "cell_type": "code",
   "execution_count": 187,
   "metadata": {},
   "outputs": [
    {
     "data": {
      "text/plain": [
       "0.5093959731543625"
      ]
     },
     "execution_count": 187,
     "metadata": {},
     "output_type": "execute_result"
    }
   ],
   "source": [
    "# looks like cluster zero is liberals and cluster 1 is conservative\n",
    "nodes_assigned['correct'] = np.where(nodes_assigned['label'] == nodes_assigned['cluster'], 1, 0)\n",
    "\n",
    "# get false classification rate\n",
    "np.mean(nodes_assigned.correct.values)"
   ]
  },
  {
   "cell_type": "code",
   "execution_count": null,
   "metadata": {},
   "outputs": [],
   "source": []
  }
 ],
 "metadata": {
  "kernelspec": {
   "display_name": "Python 3",
   "language": "python",
   "name": "python3"
  },
  "language_info": {
   "codemirror_mode": {
    "name": "ipython",
    "version": 3
   },
   "file_extension": ".py",
   "mimetype": "text/x-python",
   "name": "python",
   "nbconvert_exporter": "python",
   "pygments_lexer": "ipython3",
   "version": "3.7.4"
  }
 },
 "nbformat": 4,
 "nbformat_minor": 2
}
