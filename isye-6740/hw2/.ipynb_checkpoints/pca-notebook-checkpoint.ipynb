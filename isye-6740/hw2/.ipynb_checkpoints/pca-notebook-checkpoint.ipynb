{
 "cells": [
  {
   "cell_type": "code",
   "execution_count": 1,
   "metadata": {
    "collapsed": true
   },
   "outputs": [],
   "source": [
    "import numpy as np\n",
    "import pandas as pd"
   ]
  },
  {
   "cell_type": "code",
   "execution_count": 22,
   "metadata": {},
   "outputs": [
    {
     "data": {
      "text/plain": [
       "array(['Germany', 'Italy', 'France', 'Holland', 'Belgium', 'Luxembourg',\n",
       "       'England', 'Portugal', 'Austria', 'Switzerland', 'Denmark',\n",
       "       'Norway', 'Ireland'], dtype=object)"
      ]
     },
     "execution_count": 22,
     "metadata": {},
     "output_type": "execute_result"
    }
   ],
   "source": [
    "# read in data\n",
    "raw_data = pd.read_csv('homework2_data_code/food-consumption.csv')\n",
    "\n",
    "# filter sweden, finland, and spain (they are only rows with nan's)\n",
    "raw_data = raw_data.dropna()\n",
    "\n",
    "# separate countries from numeric features\n",
    "\n",
    "countries = raw_data.Country.values\n",
    "\n",
    "numeric_features = raw_data.iloc[:, 1:]\n",
    "\n",
    "countries"
   ]
  },
  {
   "cell_type": "code",
   "execution_count": 21,
   "metadata": {},
   "outputs": [
    {
     "data": {
      "text/plain": [
       "array([[ 20.50326296+0.j,  10.45128938+0.j],\n",
       "       [-82.04597382+0.j,  -7.69305905+0.j],\n",
       "       [-27.3214714 +0.j,  41.011802  +0.j],\n",
       "       [ 64.62461193+0.j,   5.15620008+0.j],\n",
       "       [ -7.34263383+0.j,  10.88994973+0.j],\n",
       "       [ -6.76560844+0.j,  88.66530766+0.j],\n",
       "       [ 99.46008035+0.j,   3.99798888+0.j],\n",
       "       [-96.64496923+0.j, -14.42019835+0.j],\n",
       "       [-43.56127803+0.j, -51.76204732+0.j],\n",
       "       [ -7.00761873+0.j,  23.97357226+0.j],\n",
       "       [ 34.74637889+0.j, -16.75586317+0.j],\n",
       "       [ 10.66441508+0.j, -37.66525252+0.j],\n",
       "       [ 40.69080426+0.j, -55.84968957+0.j]])"
      ]
     },
     "execution_count": 21,
     "metadata": {},
     "output_type": "execute_result"
    }
   ],
   "source": [
    "### Implement PCA\n",
    "\n",
    "num_components = 2\n",
    "\n",
    "# get data mean\n",
    "mu = np.mean(numeric_features, axis=0)\n",
    "\n",
    "# get covariance matrix\n",
    "cov_mat = np.cov(numeric_features, rowvar=False)\n",
    "\n",
    "# get eigenvals and eigenvecs\n",
    "eigenvals, eigenvecs = np.linalg.eig(cov_mat)\n",
    "\n",
    "# sort them\n",
    "idx = eigenvals.argsort()[::-1]  \n",
    "eigenvals = eigenvals[idx]\n",
    "eigenvecs = eigenvecs[:,idx]\n",
    "\n",
    "# P = vectors.T.dot(C.T)\n",
    "\n",
    "# center data\n",
    "centered_mat = (numeric_features - mu).values\n",
    "\n",
    "# project to principle components\n",
    "pc = np.dot(eigenvecs[:, :num_components].T, centered_mat.T).T\n",
    "\n",
    "pc\n"
   ]
  }
 ],
 "metadata": {
  "kernelspec": {
   "display_name": "Python 3",
   "language": "python",
   "name": "python3"
  },
  "language_info": {
   "codemirror_mode": {
    "name": "ipython",
    "version": 3
   },
   "file_extension": ".py",
   "mimetype": "text/x-python",
   "name": "python",
   "nbconvert_exporter": "python",
   "pygments_lexer": "ipython3",
   "version": "3.6.1"
  }
 },
 "nbformat": 4,
 "nbformat_minor": 2
}
