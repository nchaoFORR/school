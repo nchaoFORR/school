{
 "cells": [
  {
   "cell_type": "code",
   "execution_count": 29,
   "metadata": {
    "collapsed": true
   },
   "outputs": [],
   "source": [
    "import numpy as np\n",
    "import pandas as pd\n",
    "\n",
    "%matplotlib inline\n",
    "import matplotlib.pyplot as plt"
   ]
  },
  {
   "cell_type": "code",
   "execution_count": 22,
   "metadata": {},
   "outputs": [
    {
     "data": {
      "text/plain": [
       "array(['Germany', 'Italy', 'France', 'Holland', 'Belgium', 'Luxembourg',\n",
       "       'England', 'Portugal', 'Austria', 'Switzerland', 'Denmark',\n",
       "       'Norway', 'Ireland'], dtype=object)"
      ]
     },
     "execution_count": 22,
     "metadata": {},
     "output_type": "execute_result"
    }
   ],
   "source": [
    "# read in data\n",
    "raw_data = pd.read_csv('homework2_data_code/food-consumption.csv')\n",
    "\n",
    "# filter sweden, finland, and spain (they are only rows with nan's)\n",
    "raw_data = raw_data.dropna()\n",
    "\n",
    "# separate countries from numeric features\n",
    "\n",
    "countries = raw_data.Country.values\n",
    "\n",
    "numeric_features = raw_data.iloc[:, 1:]\n",
    "\n",
    "countries"
   ]
  },
  {
   "cell_type": "code",
   "execution_count": 23,
   "metadata": {},
   "outputs": [
    {
     "data": {
      "text/plain": [
       "array([[ 20.50326296+0.j, -82.04597382+0.j, -27.3214714 +0.j,\n",
       "         64.62461193+0.j,  -7.34263383+0.j,  -6.76560844+0.j,\n",
       "         99.46008035+0.j, -96.64496923+0.j, -43.56127803+0.j,\n",
       "         -7.00761873+0.j,  34.74637889+0.j,  10.66441508+0.j,\n",
       "         40.69080426+0.j],\n",
       "       [ 10.45128938+0.j,  -7.69305905+0.j,  41.011802  +0.j,\n",
       "          5.15620008+0.j,  10.88994973+0.j,  88.66530766+0.j,\n",
       "          3.99798888+0.j, -14.42019835+0.j, -51.76204732+0.j,\n",
       "         23.97357226+0.j, -16.75586317+0.j, -37.66525252+0.j,\n",
       "        -55.84968957+0.j]])"
      ]
     },
     "execution_count": 23,
     "metadata": {},
     "output_type": "execute_result"
    }
   ],
   "source": [
    "### Implement PCA\n",
    "\n",
    "num_components = 2\n",
    "\n",
    "# get data mean\n",
    "mu = np.mean(numeric_features, axis=0)\n",
    "\n",
    "# get covariance matrix\n",
    "cov_mat = np.cov(numeric_features, rowvar=False)\n",
    "\n",
    "# get eigenvals and eigenvecs\n",
    "eigenvals, eigenvecs = np.linalg.eig(cov_mat)\n",
    "\n",
    "# sort them\n",
    "idx = eigenvals.argsort()[::-1]  \n",
    "eigenvals = eigenvals[idx]\n",
    "eigenvecs = eigenvecs[:,idx]\n",
    "\n",
    "# P = vectors.T.dot(C.T)\n",
    "\n",
    "# center data\n",
    "centered_mat = (numeric_features - mu).values\n",
    "\n",
    "# project to principle components\n",
    "pc = np.dot(eigenvecs[:, :num_components].T, centered_mat.T)\n",
    "\n",
    "pc\n"
   ]
  },
  {
   "cell_type": "code",
   "execution_count": 36,
   "metadata": {},
   "outputs": [
    {
     "name": "stderr",
     "output_type": "stream",
     "text": [
      "/Users/nickchao/anaconda/lib/python3.6/site-packages/numpy/core/numeric.py:591: ComplexWarning: Casting complex values to real discards the imaginary part\n",
      "  return array(a, dtype, copy=False, order=order, subok=True)\n",
      "/Users/nickchao/anaconda/lib/python3.6/site-packages/matplotlib/text.py:1770: ComplexWarning: Casting complex values to real discards the imaginary part\n",
      "  x = float(self.convert_xunits(x))\n",
      "/Users/nickchao/anaconda/lib/python3.6/site-packages/matplotlib/text.py:1772: ComplexWarning: Casting complex values to real discards the imaginary part\n",
      "  y = float(self.convert_yunits(y))\n",
      "/Users/nickchao/anaconda/lib/python3.6/site-packages/matplotlib/text.py:891: ComplexWarning: Casting complex values to real discards the imaginary part\n",
      "  x = float(self.convert_xunits(self._x))\n",
      "/Users/nickchao/anaconda/lib/python3.6/site-packages/matplotlib/text.py:892: ComplexWarning: Casting complex values to real discards the imaginary part\n",
      "  y = float(self.convert_yunits(self._y))\n",
      "/Users/nickchao/anaconda/lib/python3.6/site-packages/matplotlib/text.py:759: ComplexWarning: Casting complex values to real discards the imaginary part\n",
      "  posx = float(textobj.convert_xunits(textobj._x))\n",
      "/Users/nickchao/anaconda/lib/python3.6/site-packages/matplotlib/text.py:760: ComplexWarning: Casting complex values to real discards the imaginary part\n",
      "  posy = float(textobj.convert_yunits(textobj._y))\n"
     ]
    },
    {
     "data": {
      "image/png": "[encoded data removed]",
      "text/plain": [
       "<matplotlib.figure.Figure at 0x119e36c18>"
      ]
     },
     "metadata": {},
     "output_type": "display_data"
    }
   ],
   "source": [
    "### plot\n",
    "# y = [2.56422, 3.77284, 3.52623, 3.51468, 3.02199]\n",
    "# z = [0.15, 0.3, 0.45, 0.6, 0.75]\n",
    "# n = [58, 651, 393, 203, 123]\n",
    "\n",
    "# fig, ax = plt.subplots()\n",
    "# ax.scatter(z, y)\n",
    "\n",
    "# for i, txt in enumerate(n):\n",
    "#     ax.annotate(txt, (z[i], y[i]))\n",
    "\n",
    "fig, ax = plt.subplots()\n",
    "ax.scatter(pc[0, :], pc[1, :])\n",
    "\n",
    "for i, country in enumerate(countries):\n",
    "    ax.annotate(country, (pc[0, i], pc[1, i]))\n"
   ]
  },
  {
   "cell_type": "code",
   "execution_count": null,
   "metadata": {
    "collapsed": true
   },
   "outputs": [],
   "source": []
  }
 ],
 "metadata": {
  "kernelspec": {
   "display_name": "Python 3",
   "language": "python",
   "name": "python3"
  },
  "language_info": {
   "codemirror_mode": {
    "name": "ipython",
    "version": 3
   },
   "file_extension": ".py",
   "mimetype": "text/x-python",
   "name": "python",
   "nbconvert_exporter": "python",
   "pygments_lexer": "ipython3",
   "version": "3.6.1"
  }
 },
 "nbformat": 4,
 "nbformat_minor": 2
}
